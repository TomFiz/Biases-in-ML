{
 "cells": [
  {
   "cell_type": "code",
   "execution_count": null,
   "metadata": {},
   "outputs": [],
   "source": [
    "# I have pkl file, I want to visualize only the first 10 lines and display the image\n",
    "# load the pkl file\n",
    "import pickle\n",
    "\n",
    "#Load the pkl file\n",
    "with open('BIOS.pkl', mode='rb') as f:\n",
    "    data = pickle.load(f)\n",
    "# Display the first 10 lines\n",
    "for i in range(10):\n",
    "    print(data[i])\n",
    "s"
   ]
  }
 ],
 "metadata": {
  "language_info": {
   "name": "python"
  }
 },
 "nbformat": 4,
 "nbformat_minor": 2
}
